{
 "cells": [
  {
   "cell_type": "markdown",
   "metadata": {},
   "source": [
    "# Pseudo-Random Number Generation Algorithms"
   ]
  },
  {
   "cell_type": "code",
   "execution_count": 1,
   "metadata": {},
   "outputs": [],
   "source": [
    "import numpy as np"
   ]
  },
  {
   "cell_type": "markdown",
   "metadata": {},
   "source": [
    "## XOR Shift"
   ]
  },
  {
   "cell_type": "markdown",
   "metadata": {},
   "source": [
    "Output from example C implementation \n",
    "from https://en.wikipedia.org/wiki/Xorshift "
   ]
  },
  {
   "cell_type": "raw",
   "metadata": {},
   "source": [
    "XOR shift random number demo\n",
    "\n",
    "1. 32-bit state\n",
    "Initial value: 111\n",
    "28437833\n",
    "3204627429\n",
    "3887305882\n",
    "825450314\n",
    "27031239\n",
    "1742667205\n",
    "3030794038\n",
    "458757206\n",
    "596234079\n",
    "1445359534"
   ]
  },
  {
   "cell_type": "code",
   "execution_count": 2,
   "metadata": {},
   "outputs": [],
   "source": [
    "test_values = [\n",
    "    111,\n",
    "    28437833,\n",
    "    3204627429,\n",
    "    3887305882,\n",
    "    825450314,\n",
    "    27031239,\n",
    "    1742667205,\n",
    "    3030794038,\n",
    "    458757206,\n",
    "    596234079,\n",
    "    1445359534\n",
    "]"
   ]
  },
  {
   "cell_type": "code",
   "execution_count": 3,
   "metadata": {},
   "outputs": [],
   "source": [
    "def xorshift32(state):\n",
    "    # Algorithm \"xor\" from p. 4 of Marsaglia, \"Xorshift RNGs\"\n",
    "    state = (state ^ state << 13) & 0xffffffff;\n",
    "    state = (state ^ state >> 17) & 0xffffffff;\n",
    "    state = (state ^ state << 5) & 0xffffffff;\n",
    "    return state\n",
    "\n",
    "assert list(map(xorshift32, test_values[:-1])) == test_values[1:]"
   ]
  },
  {
   "cell_type": "code",
   "execution_count": 8,
   "metadata": {},
   "outputs": [],
   "source": [
    "# This is not reversible!"
   ]
  },
  {
   "cell_type": "markdown",
   "metadata": {},
   "source": [
    "## Linear congruential generator\n",
    "\n",
    "This algorithm is reversible"
   ]
  },
  {
   "cell_type": "code",
   "execution_count": 9,
   "metadata": {},
   "outputs": [],
   "source": [
    "# From: https://stackoverflow.com/a/58867375/1609514\n",
    "\n",
    "def LCG(a, c, m, seed):     \n",
    "    xi = seed\n",
    "    while True:\n",
    "        xf = (a * xi + c) % m\n",
    "        xi = xf\n",
    "        yield xf\n",
    "\n",
    "def random_sample(n, interval, seed = 20200420162000):\n",
    "    lower, upper = interval[0], interval[1]\n",
    "    sample = []\n",
    "    glibc = LCG(1103515245, 12345, 2 ** 32, seed)       # parameters as in GNU C Library\n",
    "\n",
    "    for i in range(n):\n",
    "        observation = (upper - lower) * (next(glibc) / (2 ** 32 - 1)) + lower\n",
    "        sample.append(int(observation))\n",
    "\n",
    "    return sample"
   ]
  },
  {
   "cell_type": "code",
   "execution_count": 10,
   "metadata": {},
   "outputs": [
    {
     "data": {
      "text/plain": [
       "[54, 77, 41, 61, 74, 49, 65, 66, 86, 39]"
      ]
     },
     "execution_count": 10,
     "metadata": {},
     "output_type": "execute_result"
    }
   ],
   "source": [
    "sample = random_sample(10, [30, 90])\n",
    "sample"
   ]
  },
  {
   "cell_type": "markdown",
   "metadata": {},
   "source": [
    "## Reversible LCG"
   ]
  },
  {
   "cell_type": "markdown",
   "metadata": {},
   "source": [
    "Based on this C++ code from https://github.com/bobbaluba/rlcg/blob/master/include/rlcg.hpp:"
   ]
  },
  {
   "cell_type": "raw",
   "metadata": {},
   "source": [
    "constexpr bool isPowerOfTwo(T x){\n",
    "    return (x & (x - 1)) == 0;\n",
    "}"
   ]
  },
  {
   "cell_type": "code",
   "execution_count": 11,
   "metadata": {},
   "outputs": [],
   "source": [
    "def isPowerOfTwo(x):\n",
    "    return (x & (x - 1)) == 0\n",
    "\n",
    "assert all(isPowerOfTwo(x) for x in [0, 1, 2, 8, 256])\n",
    "assert not any(isPowerOfTwo(x) for x in [-1, 3, 9, 257])"
   ]
  },
  {
   "cell_type": "raw",
   "metadata": {},
   "source": [
    "constexpr uint64_t extendedEuclidY(uint64_t a, uint64_t b);\n",
    "constexpr uint64_t extendedEuclidX(uint64_t a, uint64_t b){\n",
    "    return (b==0) ? 1 : extendedEuclidY(b, a - b * (a / b));\n",
    "}\n",
    "constexpr uint64_t extendedEuclidY(uint64_t a, uint64_t b){\n",
    "    return (b==0) ? 0 : extendedEuclidX(b, a - b * (a / b)) - (a / b) * extendedEuclidY(b, a - b * (a / b));\n",
    "}"
   ]
  },
  {
   "cell_type": "raw",
   "metadata": {},
   "source": [
    "class ReversibleLCG {\n",
    "    static_assert(isPowerOfTwo(M), \"M is not a power of two as it should be\");\n",
    "    uint64_t x;\n",
    "public:\n",
    "    ReversibleLCG(unsigned int seed) : x(seed){}\n",
    "    unsigned int next() {\n",
    "        //nextx = (a * x + c) % m;\n",
    "        x = (A * x + C) & (M - 1);\n",
    "        return x >> D;\n",
    "    }\n",
    "    unsigned int prev() {\n",
    "        const uint64_t ainverse = extendedEuclidX(A, M);\n",
    "        //prevx = (ainverse * (x - c)) mod m\n",
    "        x = ainverse * (x - C) & (M - 1);\n",
    "        return x >> D;\n",
    "    }\n",
    "    unsigned int max() const {\n",
    "        return (M - 1) >> D;\n",
    "    }\n",
    "};"
   ]
  },
  {
   "cell_type": "code",
   "execution_count": 37,
   "metadata": {},
   "outputs": [],
   "source": [
    "# N = maximum unsigned long value + 1\n",
    "N = 1 << 64\n",
    "\n",
    "def extendedEuclidX(a, b):\n",
    "    return 1 if b == 0 else extendedEuclidY(b, a - b * (a // b));\n",
    "\n",
    "def extendedEuclidY(a, b):\n",
    "    return 0 if b == 0 else (extendedEuclidX(b, a - b * (a // b)) - (a // b) \n",
    "                             * extendedEuclidY(b, a - b * (a // b))) & (N - 1)\n",
    "\n",
    "a_inverse_stored = {\n",
    "    (6364136223846793005, 9223372036854775808): 13877824140714322085\n",
    "}\n",
    "\n",
    "def get_a_inverse_value(a, b):\n",
    "    \"\"\"Returns a pre-calculated value of a_inverse if one\n",
    "    exists otherwise calculates it using extendedEuclidX(a, b).\n",
    "    \"\"\"\n",
    "    return a_inverse_stored[(a, b)] if (a, b) in a_inverse_stored else extendedEuclidX(a, b)\n",
    "\n",
    "\n",
    "class ReversibleLCG:\n",
    "    \"\"\"Reversible Linear Congruential Generator\n",
    "    \n",
    "    A type of pseudo-random number generator that supports generating\n",
    "    random numbers in two directions (forwards and backwards).\n",
    "    \"\"\"\n",
    "\n",
    "    # modulus\n",
    "    M = 1 << 63\n",
    "\n",
    "    # multiplicand\n",
    "    A = 6364136223846793005\n",
    "\n",
    "    # increment C\n",
    "    C = 1442695040888963407\n",
    "\n",
    "    # least significant bits to discard\n",
    "    D = 32\n",
    "\n",
    "    assert isPowerOfTwo(M), \"M must be a power of two\"\n",
    "\n",
    "    def __init__(self, seed):\n",
    "        self.x = seed\n",
    "        self.ainverse = get_a_inverse_value(self.A, self.M)\n",
    "        self.forward = True\n",
    "    \n",
    "    def __iter__(self):\n",
    "        return self\n",
    "\n",
    "    def __next__(self):\n",
    "        \"\"\"Compute and return next value in sequence.\"\"\"\n",
    "        if self.forward:\n",
    "            return self.next()\n",
    "        else:\n",
    "            return self.prev()\n",
    "    \n",
    "    def reverse(self):\n",
    "        self.forward = not self.forward\n",
    "        \n",
    "    def next(self):\n",
    "        \"\"\"Compute and return next value in sequence.\"\"\"\n",
    "        # nextx = (a * x + c) % m\"\"\"\n",
    "        self.x = (self.A * self.x + self.C) & (self.M - 1)\n",
    "        return self.x >> self.D\n",
    "    \n",
    "    def prev(self):\n",
    "        \"\"\"Compute and return value in sample.\"\"\"\n",
    "        # prevx = (ainverse * (x - c)) mod m\n",
    "        self.x = self.ainverse * (self.x - self.C) & (self.M - 1)\n",
    "        return self.x >> self.D;\n",
    "    \n",
    "    def max():\n",
    "        return (self.M - 1) >> self.D\n"
   ]
  },
  {
   "cell_type": "code",
   "execution_count": 42,
   "metadata": {},
   "outputs": [
    {
     "data": {
      "text/plain": [
       "[121177411, 767878245, 153261767]"
      ]
     },
     "execution_count": 42,
     "metadata": {},
     "output_type": "execute_result"
    }
   ],
   "source": [
    "rng = ReversibleLCG(42)\n",
    "test_values = [0, 293047021, 968358053, 1773127077]\n",
    "assert [rng.next() for i in range(3)] == test_values[1:]\n",
    "assert [rng.prev() for i in range(3)] == list(reversed(test_values[:-1]))\n",
    "\n",
    "rng = ReversibleLCG(42)\n",
    "[rng.next() for i in range(3)]"
   ]
  },
  {
   "cell_type": "code",
   "execution_count": 27,
   "metadata": {},
   "outputs": [
    {
     "data": {
      "text/plain": [
       "True"
      ]
     },
     "execution_count": 27,
     "metadata": {},
     "output_type": "execute_result"
    }
   ],
   "source": [
    "rng.forward"
   ]
  },
  {
   "cell_type": "code",
   "execution_count": 34,
   "metadata": {},
   "outputs": [
    {
     "data": {
      "text/plain": [
       "293047021"
      ]
     },
     "execution_count": 34,
     "metadata": {},
     "output_type": "execute_result"
    }
   ],
   "source": [
    "next(rng)"
   ]
  },
  {
   "cell_type": "code",
   "execution_count": 32,
   "metadata": {},
   "outputs": [],
   "source": [
    "rng.forward = not rng.forward"
   ]
  },
  {
   "cell_type": "markdown",
   "metadata": {},
   "source": [
    "## Bidirectional iterator\n",
    "\n",
    "This was my answer to this stackoverflow question:\n",
    "- https://stackoverflow.com/a/65536300/1609514\n",
    "\n",
    "This is an example of a bi-directional iterator which simply counts up or down."
   ]
  },
  {
   "cell_type": "code",
   "execution_count": 80,
   "metadata": {},
   "outputs": [],
   "source": [
    "class BidirectionalCounter:\n",
    "    \"\"\"An iterator that can count in two directions (up\n",
    "    and down).\n",
    "    \"\"\"\n",
    "\n",
    "    def __init__(self, start):\n",
    "        self.forward = True\n",
    "        # Code to initialize the sequence\n",
    "        self.x = start\n",
    "\n",
    "    def __iter__(self):\n",
    "        return self\n",
    "\n",
    "    def __next__(self):\n",
    "        if self.forward:\n",
    "            return self.next()\n",
    "        else:\n",
    "            return self.prev()\n",
    "    \n",
    "    def reverse(self):\n",
    "        self.forward = not self.forward\n",
    "        \n",
    "    def next(self):\n",
    "        \"\"\"Compute and return next value in sequence.\n",
    "        \"\"\"\n",
    "        # Code to go forward\n",
    "        self.x += 1\n",
    "        return self.x\n",
    "    \n",
    "    def prev(self):\n",
    "        \"\"\"Compute and return previous value in sequence.\n",
    "        \"\"\"\n",
    "        # Code to go backward\n",
    "        self.x -= 1\n",
    "        return self.x"
   ]
  },
  {
   "cell_type": "code",
   "execution_count": 81,
   "metadata": {},
   "outputs": [
    {
     "name": "stdout",
     "output_type": "stream",
     "text": [
      "11\n",
      "12\n",
      "11\n",
      "10\n"
     ]
    }
   ],
   "source": [
    "my_counter = BidirectionalCounter(10)\n",
    "print(next(my_counter))\n",
    "print(next(my_counter))\n",
    "my_counter.reverse()\n",
    "print(next(my_counter))\n",
    "print(next(my_counter))"
   ]
  },
  {
   "cell_type": "code",
   "execution_count": 82,
   "metadata": {},
   "outputs": [
    {
     "name": "stdout",
     "output_type": "stream",
     "text": [
      "[1, 2, 3, 4, 5, 6, 7, 8, 9, 10]\n",
      "[9, 8, 7, 6, 5, 4, 3, 2, 1, 0]\n"
     ]
    }
   ],
   "source": [
    "from itertools import repeat\n",
    "\n",
    "my_counter = BidirectionalCounter(0)\n",
    "print([next(my_counter) for _ in range(10)])\n",
    "my_counter.forward = False\n",
    "print([next(my_counter) for _ in range(10)])"
   ]
  },
  {
   "cell_type": "code",
   "execution_count": 83,
   "metadata": {},
   "outputs": [
    {
     "data": {
      "text/plain": [
       "array([101, 102, 103, 104, 105, 106, 107, 108, 109, 110])"
      ]
     },
     "execution_count": 83,
     "metadata": {},
     "output_type": "execute_result"
    }
   ],
   "source": [
    "my_counter = BidirectionalCounter(100)\n",
    "np.fromiter(my_counter, dtype=int, count=10)"
   ]
  },
  {
   "cell_type": "code",
   "execution_count": null,
   "metadata": {},
   "outputs": [],
   "source": []
  }
 ],
 "metadata": {
  "kernelspec": {
   "display_name": "py39",
   "language": "python",
   "name": "py39"
  },
  "language_info": {
   "codemirror_mode": {
    "name": "ipython",
    "version": 3
   },
   "file_extension": ".py",
   "mimetype": "text/x-python",
   "name": "python",
   "nbconvert_exporter": "python",
   "pygments_lexer": "ipython3",
   "version": "3.9.0"
  }
 },
 "nbformat": 4,
 "nbformat_minor": 4
}
