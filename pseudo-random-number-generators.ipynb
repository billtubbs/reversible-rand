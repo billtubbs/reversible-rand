{
 "cells": [
  {
   "cell_type": "markdown",
   "metadata": {},
   "source": [
    "# Pseudo-Random Number Generation Algorithms"
   ]
  },
  {
   "cell_type": "code",
   "execution_count": 1,
   "metadata": {},
   "outputs": [],
   "source": [
    "import numpy as np\n",
    "import pandas as pd\n",
    "import matplotlib.pyplot as plt\n",
    "\n",
    "%matplotlib inline"
   ]
  },
  {
   "cell_type": "markdown",
   "metadata": {},
   "source": [
    "## XOR Shift"
   ]
  },
  {
   "cell_type": "markdown",
   "metadata": {},
   "source": [
    "Output from example C implementation \n",
    "from https://en.wikipedia.org/wiki/Xorshift "
   ]
  },
  {
   "cell_type": "raw",
   "metadata": {},
   "source": [
    "XOR shift random number demo\n",
    "\n",
    "1. 32-bit state\n",
    "Initial value: 111\n",
    "28437833\n",
    "3204627429\n",
    "3887305882\n",
    "825450314\n",
    "27031239\n",
    "1742667205\n",
    "3030794038\n",
    "458757206\n",
    "596234079\n",
    "1445359534"
   ]
  },
  {
   "cell_type": "code",
   "execution_count": 2,
   "metadata": {},
   "outputs": [],
   "source": [
    "test_values = [\n",
    "    111,\n",
    "    28437833,\n",
    "    3204627429,\n",
    "    3887305882,\n",
    "    825450314,\n",
    "    27031239,\n",
    "    1742667205,\n",
    "    3030794038,\n",
    "    458757206,\n",
    "    596234079,\n",
    "    1445359534\n",
    "]"
   ]
  },
  {
   "cell_type": "code",
   "execution_count": 3,
   "metadata": {},
   "outputs": [],
   "source": [
    "def xorshift32(state):\n",
    "    # Algorithm \"xor\" from p. 4 of Marsaglia, \"Xorshift RNGs\"\n",
    "    state = (state ^ state << 13) & 0xffffffff;\n",
    "    state = (state ^ state >> 17) & 0xffffffff;\n",
    "    state = (state ^ state << 5) & 0xffffffff;\n",
    "    return state\n",
    "\n",
    "assert list(map(xorshift32, test_values[:-1])) == test_values[1:]"
   ]
  },
  {
   "cell_type": "code",
   "execution_count": 4,
   "metadata": {},
   "outputs": [],
   "source": [
    "# This is not reversible!"
   ]
  },
  {
   "cell_type": "markdown",
   "metadata": {},
   "source": [
    "## Linear congruential generator\n",
    "\n",
    "This algorithm is reversible"
   ]
  },
  {
   "cell_type": "code",
   "execution_count": 5,
   "metadata": {},
   "outputs": [],
   "source": [
    "# From: https://stackoverflow.com/a/58867375/1609514\n",
    "\n",
    "def LCG(a, c, m, seed):     \n",
    "    xi = seed\n",
    "    while True:\n",
    "        xf = (a * xi + c) % m\n",
    "        xi = xf\n",
    "        yield xf\n",
    "\n",
    "def random_sample(n, interval, seed = 20200420162000):\n",
    "    lower, upper = interval[0], interval[1]\n",
    "    sample = []\n",
    "    glibc = LCG(1103515245, 12345, 2 ** 32, seed)       # parameters as in GNU C Library\n",
    "\n",
    "    for i in range(n):\n",
    "        observation = (upper - lower) * (next(glibc) / (2 ** 32 - 1)) + lower\n",
    "        sample.append(int(observation))\n",
    "\n",
    "    return sample"
   ]
  },
  {
   "cell_type": "code",
   "execution_count": 6,
   "metadata": {},
   "outputs": [
    {
     "data": {
      "text/plain": [
       "[54, 77, 41, 61, 74, 49, 65, 66, 86, 39]"
      ]
     },
     "execution_count": 6,
     "metadata": {},
     "output_type": "execute_result"
    }
   ],
   "source": [
    "sample = random_sample(10, [30, 90])\n",
    "sample"
   ]
  },
  {
   "cell_type": "markdown",
   "metadata": {},
   "source": [
    "## Euclidian Algorithm\n",
    "(this is needed for the next algorithm)"
   ]
  },
  {
   "cell_type": "markdown",
   "metadata": {},
   "source": [
    "Based on code from\n",
    "- http://anh.cs.luc.edu/331/notes/xgcd.pdf"
   ]
  },
  {
   "cell_type": "code",
   "execution_count": 7,
   "metadata": {},
   "outputs": [],
   "source": [
    "def gcd(a, b):\n",
    "    \"\"\"Greatest common denominator of a and b.\n",
    "    \"\"\"\n",
    "    while b:\n",
    "        a, b = b, a % b\n",
    "    return a\n",
    "\n",
    "assert gcd(2, 1) == 1\n",
    "assert gcd(36, 96) == 12\n",
    "assert gcd(96, 36) == 12\n",
    "assert gcd(46, 240) == 2\n",
    "assert gcd(1071, 462) == 21"
   ]
  },
  {
   "cell_type": "markdown",
   "metadata": {},
   "source": [
    "## Extended Euclidian Algorithm\n",
    "\n",
    "the extended Euclidean algorithm is an extension to the Euclidean algorithm, and computes, in addition to the greatest common divisor (gcd) of integers $a$ and $b$, also the coefficients of Bézout's identity, which are integers $x$ and $y$ such that\n",
    "\n",
    "$$ax+by=\\gcd(a,b)$$\n"
   ]
  },
  {
   "cell_type": "markdown",
   "metadata": {},
   "source": [
    "Pseudo-code from:\n",
    "- https://en.wikipedia.org/wiki/Extended_Euclidean_algorithm#Pseudocode"
   ]
  },
  {
   "cell_type": "raw",
   "metadata": {},
   "source": [
    "function extended_gcd(a, b)\n",
    "    (old_r, r) := (a, b)\n",
    "    (old_s, s) := (1, 0)\n",
    "    (old_t, t) := (0, 1)\n",
    "    \n",
    "    while r ≠ 0 do\n",
    "        quotient := old_r div r\n",
    "        (old_r, r) := (r, old_r − quotient × r)\n",
    "        (old_s, s) := (s, old_s − quotient × s)\n",
    "        (old_t, t) := (t, old_t − quotient × t)\n",
    "    \n",
    "    output \"Bézout coefficients:\", (old_s, old_t)\n",
    "    output \"greatest common divisor:\", old_r\n",
    "    output \"quotients by the gcd:\", (t, s)"
   ]
  },
  {
   "cell_type": "code",
   "execution_count": 8,
   "metadata": {},
   "outputs": [],
   "source": [
    "def extended_gcd(a, b):\n",
    "    old_r, r = a, b\n",
    "    old_s, s = 1, 0\n",
    "    old_t, t = 0, 1\n",
    "    \n",
    "    while r != 0:\n",
    "        quotient = old_r // r\n",
    "        old_r, r = r, old_r - quotient * r\n",
    "        old_s, s = s, old_s - quotient * s\n",
    "        old_t, t = t, old_t - quotient * t\n",
    "    \n",
    "    return {\n",
    "        \"Bézout coefficients\": (old_s, old_t),\n",
    "        \"greatest common divisor\": old_r,\n",
    "        \"quotients by the gcd:\": (t, s)\n",
    "    }\n",
    "\n",
    "assert extended_gcd(46, 240) == {\n",
    "    'Bézout coefficients': (47, -9),\n",
    "    'greatest common divisor': 2,\n",
    "    'quotients by the gcd:': (23, -120)\n",
    "}"
   ]
  },
  {
   "cell_type": "raw",
   "metadata": {},
   "source": [
    "function extended_gcd(a, b)\n",
    "    s := 0;    old_s := 1\n",
    "    r := b;    old_r := a\n",
    "         \n",
    "    while r ≠ 0 do\n",
    "        quotient := old_r div r\n",
    "        (old_r, r) := (r, old_r − quotient × r)\n",
    "        (old_s, s) := (s, old_s − quotient × s)\n",
    "    \n",
    "    if b ≠ 0 then\n",
    "        bezout_t := quotient(old_r − old_s × a, b)\n",
    "    else\n",
    "        bezout_t := 0\n",
    "    \n",
    "    output \"Bézout coefficients:\", (old_s, bezout_t)\n",
    "    output \"greatest common divisor:\", old_r"
   ]
  },
  {
   "cell_type": "code",
   "execution_count": 9,
   "metadata": {},
   "outputs": [],
   "source": [
    "def extended_gcd(a, b):\n",
    "    old_r, r = a, b\n",
    "    old_s, s = 1, 0\n",
    "    \n",
    "    while r != 0:\n",
    "        quotient = old_r // r\n",
    "        old_r, r = r, old_r - quotient * r\n",
    "        old_s, s = s, old_s - quotient * s\n",
    "    \n",
    "    if b != 0:\n",
    "        bezout_t = (old_r - old_s * a) // b\n",
    "    else:\n",
    "        bezout_t = 0\n",
    "    \n",
    "    return {\n",
    "        \"Bézout coefficients\": (old_s, bezout_t),\n",
    "        \"greatest common divisor\": old_r\n",
    "    }\n",
    "\n",
    "# See example from wikipedia.org\n",
    "a, b = (46, 240)\n",
    "ex = extended_gcd(a, b)\n",
    "assert ex == {\n",
    "    'Bézout coefficients': (47, -9), \n",
    "    'greatest common divisor': 2\n",
    "}\n",
    "assert np.sum(np.multiply(ex['Bézout coefficients'], (a, b))) == ex['greatest common divisor']"
   ]
  },
  {
   "cell_type": "code",
   "execution_count": 10,
   "metadata": {},
   "outputs": [],
   "source": [
    "def xgcd(a, b):\n",
    "    \"\"\"Extended Euclidean algorithm to determine the\n",
    "    greatest common divisor of a and b, as well as the\n",
    "    as Bézout coefficients, x and y in the equation:\n",
    "    \n",
    "        ax + by = gcd(a, b)\n",
    "    \n",
    "    returns gcd(a, b), x, y\n",
    "    \"\"\"\n",
    "    prevx, x = 1, 0\n",
    "    prevy, y = 0, 1\n",
    "    while b:\n",
    "        q = a // b\n",
    "        x, prevx = prevx - q*x, x\n",
    "        y, prevy = prevy - q*y, y\n",
    "        a, b = b, a % b\n",
    "    return a, prevx, prevy \n",
    "\n",
    "# See example from wikipedia.org\n",
    "a, b = (46, 240)\n",
    "gcd, x, y = xgcd(a, b)\n",
    "assert (gcd, x, y) == (2, 47, -9)\n",
    "assert np.sum(np.multiply((x, y), (a, b))) == gcd\n",
    "assert xgcd(b, a) == (gcd, y, x)"
   ]
  },
  {
   "cell_type": "code",
   "execution_count": 11,
   "metadata": {},
   "outputs": [],
   "source": [
    "def xgcd_x(a, b):\n",
    "    \"\"\"Extended Euclidean algorithm to determine the integer x\n",
    "    in the equation:\n",
    "    \n",
    "        ax + by = gcd(a, b)\n",
    "    \n",
    "    where gcd(a, b) is the greatest common divisor of a and b.\n",
    "    \n",
    "    x and y are known as Bézout coefficients.\n",
    "    \"\"\"\n",
    "    x_prev, x = 1, 0\n",
    "    \n",
    "    while b:\n",
    "        q = a // b\n",
    "        x, x_prev = x_prev - q*x, x\n",
    "        a, b = b, a % b\n",
    "    \n",
    "    return x_prev\n",
    "\n",
    "assert xgcd_x(46, 240) == 47"
   ]
  },
  {
   "cell_type": "markdown",
   "metadata": {},
   "source": [
    "## Reversible LCG"
   ]
  },
  {
   "cell_type": "markdown",
   "metadata": {},
   "source": [
    "Based on this C++ code from https://github.com/bobbaluba/rlcg/blob/master/include/rlcg.hpp:"
   ]
  },
  {
   "cell_type": "raw",
   "metadata": {},
   "source": [
    "constexpr bool isPowerOfTwo(T x){\n",
    "    return (x & (x - 1)) == 0;\n",
    "}\n",
    "\n",
    "constexpr uint64_t extendedEuclidY(uint64_t a, uint64_t b);\n",
    "constexpr uint64_t extendedEuclidX(uint64_t a, uint64_t b){\n",
    "    return (b==0) ? 1 : extendedEuclidY(b, a - b * (a / b));\n",
    "}\n",
    "constexpr uint64_t extendedEuclidY(uint64_t a, uint64_t b){\n",
    "    return (b==0) ? 0 : extendedEuclidX(b, a - b * (a / b)) - (a / b) * extendedEuclidY(b, a - b * (a / b));\n",
    "}"
   ]
  },
  {
   "cell_type": "code",
   "execution_count": 12,
   "metadata": {},
   "outputs": [],
   "source": [
    "def extendedEuclidX(a, b):\n",
    "    return 1 if b == 0 else extendedEuclidY(b, a - b * (a // b));\n",
    "\n",
    "def extendedEuclidY(a, b):\n",
    "    \"\"\"Extended Euclidean algorithm to determine the integer y\n",
    "    in the equation:\n",
    "    \n",
    "        ax + by = gcd(a, b)\n",
    "    \n",
    "    where gcd(a, b) is the greatest common divisor of a and b.\n",
    "    \"\"\"\n",
    "    if b == 0:\n",
    "        return 0\n",
    "    else:\n",
    "        return (extendedEuclidX(b, a - b * (a // b)) - (a // b) \n",
    "                * extendedEuclidY(b, a - b * (a // b)))"
   ]
  },
  {
   "cell_type": "raw",
   "metadata": {},
   "source": [
    "class ReversibleLCG {\n",
    "    static_assert(isPowerOfTwo(M), \"M is not a power of two as it should be\");\n",
    "    uint64_t x;\n",
    "public:\n",
    "    ReversibleLCG(unsigned int seed) : x(seed){}\n",
    "    unsigned int next() {\n",
    "        //nextx = (a * x + c) % m;\n",
    "        x = (A * x + C) & (M - 1);\n",
    "        return x >> D;\n",
    "    }\n",
    "    unsigned int prev() {\n",
    "        const uint64_t ainverse = extendedEuclidX(A, M);\n",
    "        //prevx = (ainverse * (x - c)) mod m\n",
    "        x = ainverse * (x - C) & (M - 1);\n",
    "        return x >> D;\n",
    "    }\n",
    "    unsigned int max() const {\n",
    "        return (M - 1) >> D;\n",
    "    }\n",
    "};"
   ]
  },
  {
   "cell_type": "code",
   "execution_count": 14,
   "metadata": {},
   "outputs": [],
   "source": [
    "def is_power_of_two(x):\n",
    "    return (x & (x - 1)) == 0\n",
    "\n",
    "assert all(is_power_of_two(x) for x in [0, 1, 2, 8, 256])\n",
    "assert not any(is_power_of_two(x) for x in [-1, 3, 9, 257])\n",
    "\n",
    "a_inverse_stored = {} \n",
    "\n",
    "# Pre-computed values for faster execution\n",
    "def get_a_inverse_value(a, b):\n",
    "    \"\"\"Returns a pre-calculated value of a_inverse if one\n",
    "    exists otherwise calculates it using extendedEuclidX(a, b).\n",
    "    \"\"\"\n",
    "    if (a, b) in a_inverse_stored:\n",
    "        return a_inverse_stored[(a, b)]\n",
    "    else:\n",
    "        x = xgcd_x(a, b)\n",
    "        a_inverse_stored[(a, b)] = x\n",
    "        return x\n",
    "\n",
    "\n",
    "class ReversibleLCG:\n",
    "    \"\"\"Reversible Linear Congruential Generator\n",
    "    \n",
    "    The LCG is a type of pseudo-random number generator that\n",
    "    supports generating random numbers in two directions (i.e.\n",
    "    forwards and backwards).\n",
    "    \n",
    "    The internal state of the generator is a single integer, x.\n",
    "    The following formula is used to produce the next state\n",
    "    value in the sequence:\n",
    "    \n",
    "        nextx = (a * x + c) % m\n",
    "    \n",
    "    where a, c, and m are constants. With appropriate choice\n",
    "    of these parameters, the period of the sequence is long.\n",
    "    \n",
    "    The d least-significant bits of x are removed and the\n",
    "    output value returned by the generator is given by\n",
    "    \n",
    "        x >> d\n",
    "    \n",
    "    This truncation technique produces sequences with longer\n",
    "    periods and statistically better values.  The values\n",
    "    generated are in the range 0 to ((m-1) >> d).\n",
    "    \n",
    "    Arguments\n",
    "    ----------\n",
    "    seed : int\n",
    "        Initial value of x to seed the random number generator.\n",
    "    m : int\n",
    "        Modulus.\n",
    "    a : int\n",
    "        Multiplicand.\n",
    "    c : int\n",
    "        Increment.\n",
    "    d : int\n",
    "        Least significant bits to discard.\n",
    "    a_inverse : int\n",
    "        The value of `a` used to step in the reverse direction.\n",
    "    max : int\n",
    "        Maximum value that can be produced.\n",
    "    \"\"\"\n",
    "\n",
    "    def __init__(self, seed, m=1<<63, a=6364136223846793005, \n",
    "                 c=1442695040888963407, d=32):\n",
    "        self.x = seed\n",
    "        assert is_power_of_two(m), \"M must be a power of two\"\n",
    "        self._m = m\n",
    "        self._a = a\n",
    "        self._c = c\n",
    "        self._d = d\n",
    "        self._a_inverse = get_a_inverse_value(self._a, self._m)\n",
    "        self.forward = True\n",
    "\n",
    "    @property\n",
    "    def m(self):\n",
    "        return self._m\n",
    "\n",
    "    @property\n",
    "    def a(self):\n",
    "        return self._a\n",
    "\n",
    "    @property\n",
    "    def c(self):\n",
    "        return self._c\n",
    "\n",
    "    @property\n",
    "    def d(self):\n",
    "        return self._d\n",
    "\n",
    "    @property\n",
    "    def a_inverse(self):\n",
    "        return self._a_inverse\n",
    "\n",
    "    @property\n",
    "    def x(self):\n",
    "        return self._x\n",
    "\n",
    "    @x.setter\n",
    "    def x(self, value):\n",
    "        self._x = value\n",
    "\n",
    "    @property\n",
    "    def max(self):\n",
    "        return (self._m - 1) >> self._d\n",
    "\n",
    "    def __iter__(self):\n",
    "        return self\n",
    "\n",
    "    def __next__(self):\n",
    "        if self.forward:\n",
    "            return self.next()\n",
    "        else:\n",
    "            return self.prev()\n",
    "\n",
    "    def reverse(self):\n",
    "        self.forward = not self.forward\n",
    "\n",
    "    def next(self):\n",
    "        \"\"\"Compute and return next value in sequence.\"\"\"\n",
    "        # nextx = (a * x + c) % m\n",
    "        self._x = (self._a * self._x + self._c) & (self._m - 1)\n",
    "        return self._x >> self._d\n",
    "\n",
    "    def prev(self):\n",
    "        \"\"\"Compute and return previous value in sequence.\"\"\"\n",
    "        # prevx = (ainverse * (x - c)) mod m\n",
    "        self._x = self._a_inverse * (self._x - self._c) & (self._m - 1)\n",
    "        return self._x >> self._d\n"
   ]
  },
  {
   "cell_type": "code",
   "execution_count": 15,
   "metadata": {},
   "outputs": [],
   "source": [
    "# Values produced by rlcg.hpp with seed = 42\n",
    "test_values = [0, 293047021, 968358053, 1773127077, 560055359, 773728940]"
   ]
  },
  {
   "cell_type": "code",
   "execution_count": 16,
   "metadata": {},
   "outputs": [
    {
     "name": "stdout",
     "output_type": "stream",
     "text": [
      "293047021\n",
      "968358053\n",
      "1773127077\n",
      "560055359\n",
      "773728940\n"
     ]
    }
   ],
   "source": [
    "# Example use: as an iterator\n",
    "rng = ReversibleLCG(42)\n",
    "for i, x in enumerate(iter(rng)):\n",
    "    print(x)\n",
    "    assert x == test_values[i + 1]\n",
    "    if i == 4:\n",
    "        break"
   ]
  },
  {
   "cell_type": "code",
   "execution_count": 17,
   "metadata": {},
   "outputs": [
    {
     "name": "stdout",
     "output_type": "stream",
     "text": [
      "560055359\n",
      "1773127077\n",
      "968358053\n",
      "293047021\n",
      "0\n"
     ]
    }
   ],
   "source": [
    "# Reverse and go back\n",
    "rng.reverse()\n",
    "assert rng.forward is False\n",
    "for i, x in enumerate(iter(rng)):\n",
    "    print(x)\n",
    "    assert x == test_values[4 - i]\n",
    "    if i == 4:\n",
    "        break"
   ]
  },
  {
   "cell_type": "code",
   "execution_count": 18,
   "metadata": {},
   "outputs": [],
   "source": [
    "# Using the class methods directly\n",
    "rng = ReversibleLCG(42)\n",
    "assert [rng.next() for i in range(5)] == test_values[1:]\n",
    "assert [rng.prev() for i in range(5)] == list(reversed(test_values[:-1]))"
   ]
  },
  {
   "cell_type": "code",
   "execution_count": 19,
   "metadata": {},
   "outputs": [
    {
     "data": {
      "text/plain": [
       "(6364136223846793005, -4568919932995229531)"
      ]
     },
     "execution_count": 19,
     "metadata": {},
     "output_type": "execute_result"
    }
   ],
   "source": [
    "rng = ReversibleLCG(42)\n",
    "rng.a, rng.a_inverse"
   ]
  },
  {
   "cell_type": "code",
   "execution_count": 20,
   "metadata": {},
   "outputs": [
    {
     "name": "stdout",
     "output_type": "stream",
     "text": [
      "293047021\n",
      "968358053\n",
      "1773127077\n",
      "560055359\n",
      "773728940\n"
     ]
    }
   ],
   "source": [
    "for i in range(5):\n",
    "    print(rng.next())"
   ]
  },
  {
   "cell_type": "code",
   "execution_count": 21,
   "metadata": {},
   "outputs": [
    {
     "data": {
      "text/plain": [
       "(13877824140714322085, -2859235813007982803)"
      ]
     },
     "execution_count": 21,
     "metadata": {},
     "output_type": "execute_result"
    }
   ],
   "source": [
    "# How to reverse it using parameters\n",
    "N = 1 << 64\n",
    "m, a, c, d, a_inverse = rng.m, rng.a, rng.c, rng.d, rng.a_inverse\n",
    "m, a, c, d = m, a_inverse & (N - 1), -c*a_inverse & (N - 1), d\n",
    "rng = ReversibleLCG(rng.x, m=m, a=a, c=c, d=d)\n",
    "rng.a, rng.a_inverse"
   ]
  },
  {
   "cell_type": "code",
   "execution_count": 22,
   "metadata": {},
   "outputs": [
    {
     "name": "stdout",
     "output_type": "stream",
     "text": [
      "560055359\n",
      "1773127077\n",
      "968358053\n",
      "293047021\n",
      "0\n"
     ]
    }
   ],
   "source": [
    "for i in range(5):\n",
    "    print(rng.next())"
   ]
  },
  {
   "cell_type": "code",
   "execution_count": 23,
   "metadata": {},
   "outputs": [
    {
     "data": {
      "text/plain": [
       "{(6364136223846793005, 9223372036854775808): -4568919932995229531,\n",
       " (13877824140714322085, 9223372036854775808): -2859235813007982803}"
      ]
     },
     "execution_count": 23,
     "metadata": {},
     "output_type": "execute_result"
    }
   ],
   "source": [
    "a_inverse_stored"
   ]
  },
  {
   "cell_type": "code",
   "execution_count": 24,
   "metadata": {},
   "outputs": [
    {
     "name": "stdout",
     "output_type": "stream",
     "text": [
      "Max: 2147483647\n"
     ]
    },
    {
     "data": {
      "image/png": "[encoded data removed]",
      "text/plain": [
       "<Figure size 432x288 with 1 Axes>"
      ]
     },
     "metadata": {
      "needs_background": "light"
     },
     "output_type": "display_data"
    }
   ],
   "source": [
    "# Using numpy\n",
    "rng = ReversibleLCG(42)\n",
    "print(f\"Max: {rng.max}\")\n",
    "sample = np.fromiter(rng, dtype='uint32', count=100000)\n",
    "plt.hist(sample, bins=21)\n",
    "plt.xlabel('x')\n",
    "plt.ylabel('Frequency')\n",
    "plt.grid()\n",
    "plt.show()"
   ]
  },
  {
   "cell_type": "markdown",
   "metadata": {},
   "source": [
    "## Reversible LCG - Numpy version"
   ]
  },
  {
   "cell_type": "code",
   "execution_count": 25,
   "metadata": {},
   "outputs": [
    {
     "data": {
      "text/plain": [
       "[2, 3, 4]"
      ]
     },
     "execution_count": 25,
     "metadata": {},
     "output_type": "execute_result"
    }
   ],
   "source": [
    "def nn(x):\n",
    "    return x + 1\n",
    "\n",
    "list(map(nn, [1, 2, 3]))"
   ]
  },
  {
   "cell_type": "code",
   "execution_count": 26,
   "metadata": {},
   "outputs": [
    {
     "data": {
      "text/plain": [
       "6"
      ]
     },
     "execution_count": 26,
     "metadata": {},
     "output_type": "execute_result"
    }
   ],
   "source": [
    "from functools import reduce\n",
    "\n",
    "def nn(x1, x2):\n",
    "    return x1 + x2\n",
    "\n",
    "reduce(nn, [1, 2, 3])"
   ]
  },
  {
   "cell_type": "code",
   "execution_count": 27,
   "metadata": {},
   "outputs": [
    {
     "data": {
      "text/plain": [
       "array([ 293047021,  968358053, 1773127077,  560055359,  773728940,\n",
       "        112652313,   93461938,  654789421, 2035646332,  106512251],\n",
       "      dtype=uint64)"
      ]
     },
     "execution_count": 27,
     "metadata": {},
     "output_type": "execute_result"
    }
   ],
   "source": [
    "# modulus\n",
    "M = 1 << 63\n",
    "\n",
    "# multiplicand\n",
    "A = 6364136223846793005\n",
    "A_inverse = 13877824140714322085\n",
    "\n",
    "# increment C\n",
    "C = 1442695040888963407\n",
    "\n",
    "# least significant bits to discard\n",
    "D = 32\n",
    "\n",
    "\n",
    "def rng_lcg(x, m, a, c):\n",
    "    while True:\n",
    "        x = (a*x + c) & (m - 1)\n",
    "        yield x\n",
    "\n",
    "\n",
    "rng = rng_lcg(42, M, A, C)\n",
    "x = np.fromiter(rng, dtype='uint64', count=10)\n",
    "x >> D"
   ]
  },
  {
   "cell_type": "code",
   "execution_count": 29,
   "metadata": {},
   "outputs": [],
   "source": [
    "\n",
    "class ReversibleLCG_vec(ReversibleLCG):\n",
    "    \"\"\"Reversible Linear Congruential Generator with additional\n",
    "    vectorized methods.\n",
    "    \n",
    "    The LCG is a type of pseudo-random number generator that\n",
    "    supports generating random numbers in two directions (i.e.\n",
    "    forwards and backwards).\n",
    "    \"\"\"\n",
    "\n",
    "    def __init__(self, seed):\n",
    "        super().__init__(seed)\n",
    "    \n",
    "    def _x_generator(x, m, a, c):\n",
    "        while True:\n",
    "            x = (a*x + c) & (m - 1)\n",
    "            yield x\n",
    "    \n",
    "    def __getitem__(self, key):\n",
    "        pass\n",
    "    \n",
    "    "
   ]
  },
  {
   "cell_type": "code",
   "execution_count": null,
   "metadata": {},
   "outputs": [],
   "source": []
  },
  {
   "cell_type": "code",
   "execution_count": null,
   "metadata": {},
   "outputs": [],
   "source": []
  },
  {
   "cell_type": "code",
   "execution_count": null,
   "metadata": {},
   "outputs": [],
   "source": []
  },
  {
   "cell_type": "markdown",
   "metadata": {},
   "source": [
    "## General bidirectional iterator\n",
    "\n",
    "This was my answer to this stackoverflow question:\n",
    "- https://stackoverflow.com/a/65536300/1609514\n",
    "\n",
    "This is an example of a bi-directional iterator which simply counts up or down."
   ]
  },
  {
   "cell_type": "code",
   "execution_count": 30,
   "metadata": {},
   "outputs": [],
   "source": [
    "class BidirectionalCounter:\n",
    "    \"\"\"An iterator that can count in two directions (up\n",
    "    and down).\n",
    "    \"\"\"\n",
    "\n",
    "    def __init__(self, start):\n",
    "        self.forward = True\n",
    "        # Code to initialize the sequence\n",
    "        self.x = start\n",
    "\n",
    "    def __iter__(self):\n",
    "        return self\n",
    "\n",
    "    def __next__(self):\n",
    "        if self.forward:\n",
    "            return self.next()\n",
    "        else:\n",
    "            return self.prev()\n",
    "    \n",
    "    def reverse(self):\n",
    "        self.forward = not self.forward\n",
    "        \n",
    "    def next(self):\n",
    "        \"\"\"Compute and return next value in sequence.\n",
    "        \"\"\"\n",
    "        # Code to go forward\n",
    "        self.x += 1\n",
    "        return self.x\n",
    "    \n",
    "    def prev(self):\n",
    "        \"\"\"Compute and return previous value in sequence.\n",
    "        \"\"\"\n",
    "        # Code to go backward\n",
    "        self.x -= 1\n",
    "        return self.x"
   ]
  },
  {
   "cell_type": "code",
   "execution_count": 31,
   "metadata": {},
   "outputs": [
    {
     "name": "stdout",
     "output_type": "stream",
     "text": [
      "11\n",
      "12\n",
      "11\n",
      "10\n"
     ]
    }
   ],
   "source": [
    "my_counter = BidirectionalCounter(10)\n",
    "print(next(my_counter))\n",
    "print(next(my_counter))\n",
    "my_counter.reverse()\n",
    "print(next(my_counter))\n",
    "print(next(my_counter))"
   ]
  },
  {
   "cell_type": "code",
   "execution_count": 32,
   "metadata": {},
   "outputs": [
    {
     "name": "stdout",
     "output_type": "stream",
     "text": [
      "[1, 2, 3, 4, 5, 6, 7, 8, 9, 10]\n",
      "[9, 8, 7, 6, 5, 4, 3, 2, 1, 0]\n"
     ]
    }
   ],
   "source": [
    "from itertools import repeat\n",
    "\n",
    "my_counter = BidirectionalCounter(0)\n",
    "print([next(my_counter) for _ in range(10)])\n",
    "my_counter.forward = False\n",
    "print([next(my_counter) for _ in range(10)])"
   ]
  },
  {
   "cell_type": "code",
   "execution_count": 33,
   "metadata": {},
   "outputs": [
    {
     "data": {
      "text/plain": [
       "array([101, 102, 103, 104, 105, 106, 107, 108, 109, 110])"
      ]
     },
     "execution_count": 33,
     "metadata": {},
     "output_type": "execute_result"
    }
   ],
   "source": [
    "my_counter = BidirectionalCounter(100)\n",
    "np.fromiter(my_counter, dtype=int, count=10)"
   ]
  },
  {
   "cell_type": "code",
   "execution_count": null,
   "metadata": {},
   "outputs": [],
   "source": []
  },
  {
   "cell_type": "code",
   "execution_count": null,
   "metadata": {},
   "outputs": [],
   "source": []
  },
  {
   "cell_type": "code",
   "execution_count": null,
   "metadata": {},
   "outputs": [],
   "source": []
  }
 ],
 "metadata": {
  "kernelspec": {
   "display_name": "py39",
   "language": "python",
   "name": "py39"
  },
  "language_info": {
   "codemirror_mode": {
    "name": "ipython",
    "version": 3
   },
   "file_extension": ".py",
   "mimetype": "text/x-python",
   "name": "python",
   "nbconvert_exporter": "python",
   "pygments_lexer": "ipython3",
   "version": "3.9.0"
  }
 },
 "nbformat": 4,
 "nbformat_minor": 4
}
